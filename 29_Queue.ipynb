{
 "cells": [
  {
   "cell_type": "markdown",
   "id": "ba6583a8",
   "metadata": {},
   "source": [
    "# Queue\n",
    "\n",
    "FIFO (First In First Out)"
   ]
  },
  {
   "cell_type": "code",
   "execution_count": null,
   "id": "1bda9d7d",
   "metadata": {},
   "outputs": [],
   "source": [
    "    30    40      70     80\n",
    "   rare                 front"
   ]
  },
  {
   "cell_type": "code",
   "execution_count": null,
   "id": "a911f913",
   "metadata": {},
   "outputs": [],
   "source": [
    "10     20      30\n",
    "rare\n",
    "              front"
   ]
  },
  {
   "cell_type": "code",
   "execution_count": null,
   "id": "875e84c0",
   "metadata": {},
   "outputs": [],
   "source": [
    "enqueue - insert an element\n",
    "\n",
    "dequeue - delete an element\n",
    "\n",
    "display"
   ]
  },
  {
   "cell_type": "code",
   "execution_count": 2,
   "id": "79b539f8",
   "metadata": {},
   "outputs": [
    {
     "name": "stdout",
     "output_type": "stream",
     "text": [
      "[None, None, None, None, None]\n"
     ]
    }
   ],
   "source": [
    "l = [None]*5\n",
    "\n",
    "print(l)"
   ]
  },
  {
   "cell_type": "code",
   "execution_count": null,
   "id": "f70d7302",
   "metadata": {},
   "outputs": [],
   "source": [
    " None   20       30       40\n",
    "  0      1        2       3\n",
    "       rare\n",
    "                        front"
   ]
  },
  {
   "cell_type": "code",
   "execution_count": 18,
   "id": "13cd2f6e",
   "metadata": {},
   "outputs": [],
   "source": [
    "class Queue:\n",
    "    \n",
    "    DEAFULT_CAPACITY = 10\n",
    "    \n",
    "    def __init__(self):\n",
    "        self.data = [None] * Queue.DEAFULT_CAPACITY\n",
    "        self.size = 0\n",
    "        self.front = 0\n",
    "        self.rare = 0\n",
    "    \n",
    "    def __len__(self):\n",
    "        return self.size\n",
    "    \n",
    "    def is_empty(self):\n",
    "        return self.size == 0\n",
    "    \n",
    "    def first(self):\n",
    "        if self.is_empty():\n",
    "            raise \"Queue is Empty\"\n",
    "        return self.data[self.front]\n",
    "    \n",
    "    def enqueue(self, element):\n",
    "        if self.is_empty():\n",
    "            self.data[self.front] = element\n",
    "            self.size += 1\n",
    "        elif self.size == Queue.DEAFULT_CAPACITY:\n",
    "            raise \"Queue is overflow\"\n",
    "        else:\n",
    "            self.front += 1\n",
    "            self.data[self.front] = element\n",
    "            self.size += 1\n",
    "        \n",
    "    def dequeue(self):\n",
    "        if self.is_empty():\n",
    "            raise \"Queue is Underflow\"\n",
    "        \n",
    "        result = self.data[self.rare]\n",
    "        self.data[self.rare] = None\n",
    "        self.rare += 1\n",
    "        self.size -= 1\n",
    "        return result\n",
    "    \n",
    "    def display(self):\n",
    "        if self.is_empty():\n",
    "            raise \"Queue is Empty\"\n",
    "        \n",
    "        for i in range(self.rare, self.front + 1):\n",
    "            print(self.data[i])"
   ]
  },
  {
   "cell_type": "code",
   "execution_count": 19,
   "id": "e1faae7d",
   "metadata": {},
   "outputs": [],
   "source": [
    "q = Queue()"
   ]
  },
  {
   "cell_type": "code",
   "execution_count": 20,
   "id": "8605ee62",
   "metadata": {},
   "outputs": [
    {
     "data": {
      "text/plain": [
       "[None, None, None, None, None, None, None, None, None, None]"
      ]
     },
     "execution_count": 20,
     "metadata": {},
     "output_type": "execute_result"
    }
   ],
   "source": [
    "q.data"
   ]
  },
  {
   "cell_type": "code",
   "execution_count": 21,
   "id": "b5f5a477",
   "metadata": {},
   "outputs": [
    {
     "data": {
      "text/plain": [
       "0"
      ]
     },
     "execution_count": 21,
     "metadata": {},
     "output_type": "execute_result"
    }
   ],
   "source": [
    "q.__len__()"
   ]
  },
  {
   "cell_type": "code",
   "execution_count": 22,
   "id": "bb30ab49",
   "metadata": {},
   "outputs": [
    {
     "ename": "TypeError",
     "evalue": "exceptions must derive from BaseException",
     "output_type": "error",
     "traceback": [
      "\u001b[1;31m---------------------------------------------------------------------------\u001b[0m",
      "\u001b[1;31mTypeError\u001b[0m                                 Traceback (most recent call last)",
      "\u001b[1;32m<ipython-input-22-fa32c7de526b>\u001b[0m in \u001b[0;36m<module>\u001b[1;34m\u001b[0m\n\u001b[1;32m----> 1\u001b[1;33m \u001b[0mq\u001b[0m\u001b[1;33m.\u001b[0m\u001b[0mdisplay\u001b[0m\u001b[1;33m(\u001b[0m\u001b[1;33m)\u001b[0m\u001b[1;33m\u001b[0m\u001b[1;33m\u001b[0m\u001b[0m\n\u001b[0m",
      "\u001b[1;32m<ipython-input-18-706ccacc0cd9>\u001b[0m in \u001b[0;36mdisplay\u001b[1;34m(self)\u001b[0m\n\u001b[0;32m     43\u001b[0m     \u001b[1;32mdef\u001b[0m \u001b[0mdisplay\u001b[0m\u001b[1;33m(\u001b[0m\u001b[0mself\u001b[0m\u001b[1;33m)\u001b[0m\u001b[1;33m:\u001b[0m\u001b[1;33m\u001b[0m\u001b[1;33m\u001b[0m\u001b[0m\n\u001b[0;32m     44\u001b[0m         \u001b[1;32mif\u001b[0m \u001b[0mself\u001b[0m\u001b[1;33m.\u001b[0m\u001b[0mis_empty\u001b[0m\u001b[1;33m(\u001b[0m\u001b[1;33m)\u001b[0m\u001b[1;33m:\u001b[0m\u001b[1;33m\u001b[0m\u001b[1;33m\u001b[0m\u001b[0m\n\u001b[1;32m---> 45\u001b[1;33m             \u001b[1;32mraise\u001b[0m \u001b[1;34m\"Queue is Empty\"\u001b[0m\u001b[1;33m\u001b[0m\u001b[1;33m\u001b[0m\u001b[0m\n\u001b[0m\u001b[0;32m     46\u001b[0m \u001b[1;33m\u001b[0m\u001b[0m\n\u001b[0;32m     47\u001b[0m         \u001b[1;32mfor\u001b[0m \u001b[0mi\u001b[0m \u001b[1;32min\u001b[0m \u001b[0mrange\u001b[0m\u001b[1;33m(\u001b[0m\u001b[0mself\u001b[0m\u001b[1;33m.\u001b[0m\u001b[0mrare\u001b[0m\u001b[1;33m,\u001b[0m \u001b[0mself\u001b[0m\u001b[1;33m.\u001b[0m\u001b[0mfront\u001b[0m \u001b[1;33m+\u001b[0m \u001b[1;36m1\u001b[0m\u001b[1;33m)\u001b[0m\u001b[1;33m:\u001b[0m\u001b[1;33m\u001b[0m\u001b[1;33m\u001b[0m\u001b[0m\n",
      "\u001b[1;31mTypeError\u001b[0m: exceptions must derive from BaseException"
     ]
    }
   ],
   "source": [
    "q.display()"
   ]
  },
  {
   "cell_type": "code",
   "execution_count": 23,
   "id": "119e60bc",
   "metadata": {},
   "outputs": [
    {
     "data": {
      "text/plain": [
       "True"
      ]
     },
     "execution_count": 23,
     "metadata": {},
     "output_type": "execute_result"
    }
   ],
   "source": [
    "q.is_empty()"
   ]
  },
  {
   "cell_type": "code",
   "execution_count": 24,
   "id": "b81309f3",
   "metadata": {},
   "outputs": [],
   "source": [
    "q.enqueue(10)\n",
    "q.enqueue(20)\n",
    "q.enqueue(30)\n",
    "q.enqueue(40)\n"
   ]
  },
  {
   "cell_type": "code",
   "execution_count": 25,
   "id": "3cd4b501",
   "metadata": {},
   "outputs": [
    {
     "name": "stdout",
     "output_type": "stream",
     "text": [
      "10\n",
      "20\n",
      "30\n",
      "40\n"
     ]
    }
   ],
   "source": [
    "q.display()"
   ]
  },
  {
   "cell_type": "code",
   "execution_count": 26,
   "id": "b6ccc07d",
   "metadata": {},
   "outputs": [
    {
     "data": {
      "text/plain": [
       "10"
      ]
     },
     "execution_count": 26,
     "metadata": {},
     "output_type": "execute_result"
    }
   ],
   "source": [
    "q.dequeue()"
   ]
  },
  {
   "cell_type": "code",
   "execution_count": 27,
   "id": "9eb5173f",
   "metadata": {},
   "outputs": [
    {
     "name": "stdout",
     "output_type": "stream",
     "text": [
      "20\n",
      "30\n",
      "40\n"
     ]
    }
   ],
   "source": [
    "q.display()"
   ]
  },
  {
   "cell_type": "code",
   "execution_count": 28,
   "id": "3e57847c",
   "metadata": {},
   "outputs": [
    {
     "data": {
      "text/plain": [
       "40"
      ]
     },
     "execution_count": 28,
     "metadata": {},
     "output_type": "execute_result"
    }
   ],
   "source": [
    "q.first()"
   ]
  },
  {
   "cell_type": "code",
   "execution_count": null,
   "id": "1ca0c90f",
   "metadata": {},
   "outputs": [],
   "source": []
  }
 ],
 "metadata": {
  "kernelspec": {
   "display_name": "Python 3",
   "language": "python",
   "name": "python3"
  },
  "language_info": {
   "codemirror_mode": {
    "name": "ipython",
    "version": 3
   },
   "file_extension": ".py",
   "mimetype": "text/x-python",
   "name": "python",
   "nbconvert_exporter": "python",
   "pygments_lexer": "ipython3",
   "version": "3.8.10"
  }
 },
 "nbformat": 4,
 "nbformat_minor": 5
}
